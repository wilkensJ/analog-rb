{
 "cells": [
  {
   "cell_type": "markdown",
   "metadata": {},
   "source": [
    "## Analog randomized benchmarking for bosonic $d$ dimensional systems with $n$ particles"
   ]
  },
  {
   "cell_type": "code",
   "execution_count": 7,
   "metadata": {},
   "outputs": [],
   "source": [
    "import numpy as np\n",
    "from analogrb.gatefactory import UniformNNHGateFactory\n",
    "from analogrb.channel import DepolarizingChannel\n",
    "from analogrb.bosonic import OnsideIntNNHamiltonian, NonintNNHamiltonian\n",
    "\n",
    "# number of nodes.\n",
    "d = 3\n",
    "# number of particles.\n",
    "n = 2\n",
    "# the y dimension of the lattice.\n",
    "ydim = d\n",
    "# Set if the system is interacting or not.\n",
    "interacting_gates = False\n",
    "# Build the Hamiltonian with which the system will be time evolved.\n",
    "Hamiltonian = OnsideIntNNHamiltonian(d, n, ydim) if interacting_gates else NonintNNHamiltonian(d, n, ydim)\n",
    "# The evolution time of the Hamiltonian\n",
    "time = 1.\n",
    "# When called, returns a random unitary, here a unitary from a uniformly drawn NN = nearest neighbour Hamiltonian. \n",
    "gatefactory = iter(UniformNNHGateFactory(Hamiltonian, time = time))\n",
    "# The initial quantum state, here the |0x0| density matrix.\n",
    "rho_init = np.zeros((Hamiltonian.fock_dim, Hamiltonian.fock_dim), dtype=np.complex128)\n",
    "rho_init[0, 0] = 1.\n",
    "\n",
    "# Set the error channel.\n",
    "depol_param = 0.05\n",
    "error_channel = DepolarizingChannel(depol_param)\n",
    "\n",
    "# Set the parameters to run the arb protocol. ms are the depths of the quenches.\n",
    "ms = [5,10, 15]\n",
    "# How many time the protocol is repeated.\n",
    "naverage = 10\n",
    "\n",
    "# Set the statistical analysis paramters. \n",
    "nbootstraps = 100\n",
    "confidence = 95\n",
    "\n",
    "save = True"
   ]
  },
  {
   "cell_type": "markdown",
   "metadata": {},
   "source": [
    "The Hamiltonian is a symbolic object which entries can be set randomly. This is a nearest neighbour Hamiltonian."
   ]
  },
  {
   "cell_type": "code",
   "execution_count": 8,
   "metadata": {},
   "outputs": [
    {
     "data": {
      "text/latex": [
       "$\\displaystyle \\left[\\begin{matrix}2 h_{11} & \\sqrt{2} h_{12} & 0 & 0 & 0 & 0\\\\\\sqrt{2} \\overline{h_{12}} & h_{11} + h_{22} & h_{23} & \\sqrt{2} h_{12} & 0 & 0\\\\0 & \\overline{h_{23}} & h_{11} + h_{33} & 0 & h_{12} & 0\\\\0 & \\sqrt{2} \\overline{h_{12}} & 0 & 2 h_{22} & \\sqrt{2} h_{23} & 0\\\\0 & 0 & \\overline{h_{12}} & \\sqrt{2} \\overline{h_{23}} & h_{22} + h_{33} & \\sqrt{2} h_{23}\\\\0 & 0 & 0 & 0 & \\sqrt{2} \\overline{h_{23}} & 2 h_{33}\\end{matrix}\\right]$"
      ],
      "text/plain": [
       "Matrix([\n",
       "[                 2*h11,            sqrt(2)*h12,              0,                      0,                      0,           0],\n",
       "[sqrt(2)*conjugate(h12),              h11 + h22,            h23,            sqrt(2)*h12,                      0,           0],\n",
       "[                     0,         conjugate(h23),      h11 + h33,                      0,                    h12,           0],\n",
       "[                     0, sqrt(2)*conjugate(h12),              0,                  2*h22,            sqrt(2)*h23,           0],\n",
       "[                     0,                      0, conjugate(h12), sqrt(2)*conjugate(h23),              h22 + h33, sqrt(2)*h23],\n",
       "[                     0,                      0,              0,                      0, sqrt(2)*conjugate(h23),       2*h33]])"
      ]
     },
     "execution_count": 8,
     "metadata": {},
     "output_type": "execute_result"
    }
   ],
   "source": [
    "Hamiltonian.show()"
   ]
  },
  {
   "cell_type": "markdown",
   "metadata": {},
   "source": [
    "The data is stored in different .txt files for each single run:\n",
    "* m (the depths $m$)\n",
    "* U (the overall product unitary $U$)\n",
    "* outcomes (the simulated experimental outcomes of the density matrix)"
   ]
  },
  {
   "cell_type": "code",
   "execution_count": 9,
   "metadata": {},
   "outputs": [
    {
     "name": "stdout",
     "output_type": "stream",
     "text": [
      "meta data saved to  /Users/jadwigawilkens/Physics/analog rb/analogrb/arbdata/3d_2n_nonint/sim-24-01-16-190717/metadata.json\n",
      "1 out of 10 repetitions done\n",
      "2 out of 10 repetitions done\n",
      "3 out of 10 repetitions done\n",
      "4 out of 10 repetitions done\n",
      "5 out of 10 repetitions done\n",
      "6 out of 10 repetitions done\n",
      "7 out of 10 repetitions done\n",
      "8 out of 10 repetitions done\n",
      "9 out of 10 repetitions done\n",
      "10 out of 10 repetitions done\n"
     ]
    }
   ],
   "source": [
    "from analogrb.arb_protocol import simulate_data_acquisition\n",
    "\n",
    "data_path = simulate_data_acquisition(d, n, interacting_gates, ms, gatefactory, rho_init, error_channel, naverage, save)"
   ]
  },
  {
   "cell_type": "markdown",
   "metadata": {},
   "source": [
    "When the data is stored, it has to be loaded again. The post processing adds the filtered values $q$ for each irrep, the values are normalized already."
   ]
  },
  {
   "cell_type": "code",
   "execution_count": 10,
   "metadata": {},
   "outputs": [],
   "source": [
    "import pandas as pd\n",
    "from analogrb.arb_protocol import post_processing\n",
    "from analogrb.save_load import extract_from_data\n",
    "from analogrb.bootstrap import fit_with_bootstrap\n",
    "\n",
    "data = post_processing(path = data_path)\n",
    "# Turn into a pandas dataframe to analyze the data easier.\n",
    "df = pd.DataFrame(data)\n",
    "# Extract the names of the irreps for the different decay curves for each irrep.\n",
    "names = [key for key in df.keys() if key.startswith(\"q_\")]\n",
    "# Initialize a new data frame to store the results.\n",
    "df_result = pd.DataFrame(columns=['m', 'avg', 'yerr', 'popt', 'pcov'], index=names)\n",
    "# Go through all the irrep data.\n",
    "for name in names:\n",
    "    ms, qs = extract_from_data(df, name, 'm', list)\n",
    "    df_result.loc[name] = fit_with_bootstrap(ms, qs, nbootstraps, confidence)"
   ]
  },
  {
   "cell_type": "markdown",
   "metadata": {},
   "source": [
    "The result dataframe now carries the whole analytical results from the given data acquired in the simulations process and the post processing.\n",
    "<b>\n",
    "for example the smaller irrep "
   ]
  },
  {
   "cell_type": "code",
   "execution_count": 11,
   "metadata": {},
   "outputs": [
    {
     "name": "stdout",
     "output_type": "stream",
     "text": [
      "The result data for the smaller irrep.\n",
      "m                                             [5, 10, 15]\n",
      "avg     [1.0169640332064696, 0.8920659331714372, 0.470...\n",
      "yerr    [[0.5502652906804559, 0.3367909085376961, 0.14...\n",
      "popt             [1.4673498603646393, 0.9373417565101679]\n",
      "pcov    [[0.8733972920769177, 1.932016140013981], [0.0...\n",
      "Name: q_2-1-0, dtype: object\n",
      "The depth values:\n",
      "[ 5 10 15]\n",
      "And the averages of the qs:\n",
      "[1.0169640332064696, 0.8920659331714372, 0.4703644584031105]\n"
     ]
    }
   ],
   "source": [
    "print('The result data for the smaller irrep.')\n",
    "print(df_result.loc['q_2-1-0'])\n",
    "print('The depth values:')\n",
    "print(df_result.loc['q_2-1-0', 'm'])\n",
    "print('And the averages of the qs:')\n",
    "print(df_result.loc['q_2-1-0', 'avg'])"
   ]
  },
  {
   "cell_type": "markdown",
   "metadata": {},
   "source": [
    "Plot the result."
   ]
  },
  {
   "cell_type": "code",
   "execution_count": 12,
   "metadata": {},
   "outputs": [
    {
     "name": "stdout",
     "output_type": "stream",
     "text": [
      "irrep 2-1-0 popt: A, p = [1.46734986 0.93734176]\n",
      "irrep 4-2-0 popt: A, p = [2.11613536 0.90000155]\n"
     ]
    },
    {
     "data": {
      "image/png": "[encoded data removed]",
      "text/plain": [
       "<Figure size 640x480 with 1 Axes>"
      ]
     },
     "metadata": {},
     "output_type": "display_data"
    }
   ],
   "source": [
    "import matplotlib.pyplot as plt\n",
    "from analogrb.save_load import extract_from_data\n",
    "from analogrb.arb_protocol import EXP_FUNC\n",
    "\n",
    "COLORS = ['#469DD4', '#DB3932', '#638537',  '#853763',  '#D79B00'] # blue, red, green, purple, orange\n",
    "\n",
    "\n",
    "for k, name in enumerate(names):\n",
    "    ms, qs = extract_from_data(df, name, 'm', list)\n",
    "    color = COLORS[k]\n",
    "    plt.scatter(*extract_from_data(df, name, 'm'), alpha=0.1, color=color)\n",
    "    ms = df_result.loc[name, 'm']\n",
    "    plt.errorbar(ms, df_result.loc[name, 'avg'], yerr=df_result.loc[name, 'yerr'], fmt='x', capsize=2, color=color, label=f\"irrep {name[2:]}\")\n",
    "    ms_finespaced = np.linspace(np.min(ms), np.max(ms), len(ms)*20)\n",
    "    plt.plot(ms_finespaced, EXP_FUNC(ms_finespaced, *df_result.loc[name, 'popt']), '--', color = color)\n",
    "    print(f\"irrep {name[2:]} popt: A, p = {df_result.loc[name, 'popt']}\")\n",
    "plt.ylabel('q')\n",
    "plt.xlabel('m')\n",
    "plt.legend()\n",
    "plt.show()\n"
   ]
  },
  {
   "cell_type": "code",
   "execution_count": null,
   "metadata": {},
   "outputs": [],
   "source": []
  }
 ],
 "metadata": {
  "kernelspec": {
   "display_name": ".venv",
   "language": "python",
   "name": "python3"
  },
  "language_info": {
   "codemirror_mode": {
    "name": "ipython",
    "version": 3
   },
   "file_extension": ".py",
   "mimetype": "text/x-python",
   "name": "python",
   "nbconvert_exporter": "python",
   "pygments_lexer": "ipython3",
   "version": "3.11.3"
  }
 },
 "nbformat": 4,
 "nbformat_minor": 2
}
