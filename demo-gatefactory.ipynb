{
 "cells": [
  {
   "cell_type": "code",
   "execution_count": null,
   "metadata": {},
   "outputs": [],
   "source": [
    "import numpy as np\n",
    "\n",
    "from analogrb.gatefactory import UniformNNHGateFactory, SycamoreGateFactory\n",
    "from analogrb.bosonic import OnSiteIntNNHamiltonian, NonintNNHamiltonian"
   ]
  },
  {
   "cell_type": "markdown",
   "metadata": {},
   "source": [
    "### Build the band diagonal Hamiltonian object.\n",
    "Band diagonal means: Only nearest neighbor hopping and staying on site is allowed. Also, if there is interaction it must be local. In this case it is on site interaction."
   ]
  },
  {
   "cell_type": "code",
   "execution_count": 5,
   "metadata": {},
   "outputs": [
    {
     "data": {
      "text/latex": [
       "$\\displaystyle \\left[\\begin{matrix}2 V_{1111} + 2 h_{11} & \\sqrt{2} h_{12} & 0 & 0 & 0 & 0\\\\\\sqrt{2} \\overline{h_{12}} & h_{11} + h_{22} & h_{23} & \\sqrt{2} h_{12} & 0 & 0\\\\0 & \\overline{h_{23}} & h_{11} + h_{33} & 0 & h_{12} & 0\\\\0 & \\sqrt{2} \\overline{h_{12}} & 0 & 2 V_{2222} + 2 h_{22} & \\sqrt{2} h_{23} & 0\\\\0 & 0 & \\overline{h_{12}} & \\sqrt{2} \\overline{h_{23}} & h_{22} + h_{33} & \\sqrt{2} h_{23}\\\\0 & 0 & 0 & 0 & \\sqrt{2} \\overline{h_{23}} & 2 V_{3333} + 2 h_{33}\\end{matrix}\\right]$"
      ],
      "text/plain": [
       "Matrix([\n",
       "[       2*V1111 + 2*h11,            sqrt(2)*h12,              0,                      0,                      0,               0],\n",
       "[sqrt(2)*conjugate(h12),              h11 + h22,            h23,            sqrt(2)*h12,                      0,               0],\n",
       "[                     0,         conjugate(h23),      h11 + h33,                      0,                    h12,               0],\n",
       "[                     0, sqrt(2)*conjugate(h12),              0,        2*V2222 + 2*h22,            sqrt(2)*h23,               0],\n",
       "[                     0,                      0, conjugate(h12), sqrt(2)*conjugate(h23),              h22 + h33,     sqrt(2)*h23],\n",
       "[                     0,                      0,              0,                      0, sqrt(2)*conjugate(h23), 2*V3333 + 2*h33]])"
      ]
     },
     "execution_count": 5,
     "metadata": {},
     "output_type": "execute_result"
    }
   ],
   "source": [
    "# Number of nodes, number of particles.\n",
    "d, n = 3, 2\n",
    "# Build the Hamiltonian with which the system will be time evolved.\n",
    "Hamiltonian = OnSiteIntNNHamiltonian(d, n) \n",
    "Hamiltonian.show()"
   ]
  },
  {
   "cell_type": "markdown",
   "metadata": {},
   "source": [
    "In this case there are 3 interaction terms and 5 hopping terms."
   ]
  },
  {
   "cell_type": "code",
   "execution_count": 7,
   "metadata": {},
   "outputs": [
    {
     "data": {
      "text/latex": [
       "$\\displaystyle \\left[\\begin{matrix}2 V_{1111} & 0 & 0 & 0 & 0 & 0\\\\0 & 0 & 0 & 0 & 0 & 0\\\\0 & 0 & 0 & 0 & 0 & 0\\\\0 & 0 & 0 & 2 V_{2222} & 0 & 0\\\\0 & 0 & 0 & 0 & 0 & 0\\\\0 & 0 & 0 & 0 & 0 & 2 V_{3333}\\end{matrix}\\right]$"
      ],
      "text/plain": [
       "Matrix([\n",
       "[2*V1111, 0, 0,       0, 0,       0],\n",
       "[      0, 0, 0,       0, 0,       0],\n",
       "[      0, 0, 0,       0, 0,       0],\n",
       "[      0, 0, 0, 2*V2222, 0,       0],\n",
       "[      0, 0, 0,       0, 0,       0],\n",
       "[      0, 0, 0,       0, 0, 2*V3333]])"
      ]
     },
     "execution_count": 7,
     "metadata": {},
     "output_type": "execute_result"
    }
   ],
   "source": []
  },
  {
   "cell_type": "code",
   "execution_count": 1,
   "metadata": {},
   "outputs": [],
   "source": [
    "\n",
    "# The evolution time of the Hamiltonian\n",
    "time = 1.\n",
    "# When called, returns a random unitary, here a unitary from a uniformly drawn NN = nearest neighbour Hamiltonian. \n",
    "gatefactory = iter(UniformNNHGateFactory(Hamiltonian, time = time))\n",
    "# The initial quantum state, here the |0x0| density matrix.\n",
    "rho_init = np.zeros((Hamiltonian.fock_dim, Hamiltonian.fock_dim), dtype=np.complex128)\n",
    "rho_init[0, 0] = 1.\n",
    "\n"
   ]
  },
  {
   "cell_type": "code",
   "execution_count": null,
   "metadata": {},
   "outputs": [],
   "source": [
    "# Each call returns a random instance from the gate factory.\n",
    "for _ in range(5):\n",
    "    U = next(gatefactory)\n",
    "    print(U)"
   ]
  }
 ],
 "metadata": {
  "kernelspec": {
   "display_name": "analogrbvenv",
   "language": "python",
   "name": "python3"
  },
  "language_info": {
   "codemirror_mode": {
    "name": "ipython",
    "version": 3
   },
   "file_extension": ".py",
   "mimetype": "text/x-python",
   "name": "python",
   "nbconvert_exporter": "python",
   "pygments_lexer": "ipython3",
   "version": "3.9.7"
  }
 },
 "nbformat": 4,
 "nbformat_minor": 2
}
